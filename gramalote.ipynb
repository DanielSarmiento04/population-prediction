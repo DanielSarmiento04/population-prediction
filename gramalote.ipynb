{
 "cells": [
  {
   "cell_type": "code",
   "execution_count": 73,
   "metadata": {},
   "outputs": [],
   "source": [
    "import polars as pl\n",
    "import pandas as pd\n",
    "import numpy as np\n",
    "from scipy.optimize import curve_fit\n",
    "from matplotlib  import pyplot as plt"
   ]
  },
  {
   "attachments": {},
   "cell_type": "markdown",
   "metadata": {},
   "source": [
    "### load dataFrame with specific compression method"
   ]
  },
  {
   "cell_type": "code",
   "execution_count": 74,
   "metadata": {},
   "outputs": [],
   "source": [
    "path = \"gramalote_row.pkl\"\n",
    "df = pd.read_pickle(path, compression=\"gzip\")"
   ]
  },
  {
   "cell_type": "code",
   "execution_count": 75,
   "metadata": {},
   "outputs": [
    {
     "data": {
      "text/html": [
       "<div>\n",
       "<style scoped>\n",
       "    .dataframe tbody tr th:only-of-type {\n",
       "        vertical-align: middle;\n",
       "    }\n",
       "\n",
       "    .dataframe tbody tr th {\n",
       "        vertical-align: top;\n",
       "    }\n",
       "\n",
       "    .dataframe thead th {\n",
       "        text-align: right;\n",
       "    }\n",
       "</style>\n",
       "<table border=\"1\" class=\"dataframe\">\n",
       "  <thead>\n",
       "    <tr style=\"text-align: right;\">\n",
       "      <th></th>\n",
       "      <th>DP</th>\n",
       "      <th>DPNOM</th>\n",
       "      <th>DPMP</th>\n",
       "      <th>MPIO</th>\n",
       "      <th>2005</th>\n",
       "      <th>2006</th>\n",
       "      <th>2007</th>\n",
       "      <th>2008</th>\n",
       "      <th>2009</th>\n",
       "      <th>2010</th>\n",
       "      <th>...</th>\n",
       "      <th>2011.2</th>\n",
       "      <th>2012.2</th>\n",
       "      <th>2013.2</th>\n",
       "      <th>2014.2</th>\n",
       "      <th>2015.2</th>\n",
       "      <th>2016.2</th>\n",
       "      <th>2017.2</th>\n",
       "      <th>2018.2</th>\n",
       "      <th>2019.2</th>\n",
       "      <th>2020.2</th>\n",
       "    </tr>\n",
       "  </thead>\n",
       "  <tbody>\n",
       "    <tr>\n",
       "      <th>794</th>\n",
       "      <td>54</td>\n",
       "      <td>Norte de Santander</td>\n",
       "      <td>54313.0</td>\n",
       "      <td>Gramalote</td>\n",
       "      <td>6329.0</td>\n",
       "      <td>6231.0</td>\n",
       "      <td>6159.0</td>\n",
       "      <td>6067.0</td>\n",
       "      <td>6002.0</td>\n",
       "      <td>5928.0</td>\n",
       "      <td>...</td>\n",
       "      <td>3004.0</td>\n",
       "      <td>2953.0</td>\n",
       "      <td>2904.0</td>\n",
       "      <td>2874.0</td>\n",
       "      <td>2819.0</td>\n",
       "      <td>2793.0</td>\n",
       "      <td>2753.0</td>\n",
       "      <td>2712.0</td>\n",
       "      <td>2675.0</td>\n",
       "      <td>2648.0</td>\n",
       "    </tr>\n",
       "  </tbody>\n",
       "</table>\n",
       "<p>1 rows × 52 columns</p>\n",
       "</div>"
      ],
      "text/plain": [
       "     DP               DPNOM     DPMP       MPIO    2005    2006    2007  \\\n",
       "794  54  Norte de Santander  54313.0  Gramalote  6329.0  6231.0  6159.0   \n",
       "\n",
       "       2008    2009    2010  ...  2011.2  2012.2  2013.2  2014.2  2015.2  \\\n",
       "794  6067.0  6002.0  5928.0  ...  3004.0  2953.0  2904.0  2874.0  2819.0   \n",
       "\n",
       "     2016.2  2017.2  2018.2  2019.2  2020.2  \n",
       "794  2793.0  2753.0  2712.0  2675.0  2648.0  \n",
       "\n",
       "[1 rows x 52 columns]"
      ]
     },
     "execution_count": 75,
     "metadata": {},
     "output_type": "execute_result"
    }
   ],
   "source": [
    "df.head()"
   ]
  },
  {
   "attachments": {},
   "cell_type": "markdown",
   "metadata": {},
   "source": [
    "### Take only the data population in the choiceTake only the data population in the selected period"
   ]
  },
  {
   "cell_type": "code",
   "execution_count": 76,
   "metadata": {},
   "outputs": [
    {
     "data": {
      "text/html": [
       "<div>\n",
       "<style scoped>\n",
       "    .dataframe tbody tr th:only-of-type {\n",
       "        vertical-align: middle;\n",
       "    }\n",
       "\n",
       "    .dataframe tbody tr th {\n",
       "        vertical-align: top;\n",
       "    }\n",
       "\n",
       "    .dataframe thead th {\n",
       "        text-align: right;\n",
       "    }\n",
       "</style>\n",
       "<table border=\"1\" class=\"dataframe\">\n",
       "  <thead>\n",
       "    <tr style=\"text-align: right;\">\n",
       "      <th></th>\n",
       "      <th>2005</th>\n",
       "      <th>2006</th>\n",
       "      <th>2007</th>\n",
       "      <th>2008</th>\n",
       "      <th>2009</th>\n",
       "      <th>2010</th>\n",
       "      <th>2011</th>\n",
       "      <th>2012</th>\n",
       "      <th>2013</th>\n",
       "      <th>2014</th>\n",
       "      <th>2015</th>\n",
       "      <th>2016</th>\n",
       "      <th>2017</th>\n",
       "      <th>2018</th>\n",
       "      <th>2019</th>\n",
       "      <th>2020</th>\n",
       "    </tr>\n",
       "  </thead>\n",
       "  <tbody>\n",
       "    <tr>\n",
       "      <th>794</th>\n",
       "      <td>6329.0</td>\n",
       "      <td>6231.0</td>\n",
       "      <td>6159.0</td>\n",
       "      <td>6067.0</td>\n",
       "      <td>6002.0</td>\n",
       "      <td>5928.0</td>\n",
       "      <td>5853.0</td>\n",
       "      <td>5779.0</td>\n",
       "      <td>5705.0</td>\n",
       "      <td>5649.0</td>\n",
       "      <td>5567.0</td>\n",
       "      <td>5512.0</td>\n",
       "      <td>5442.0</td>\n",
       "      <td>5370.0</td>\n",
       "      <td>5301.0</td>\n",
       "      <td>5240.0</td>\n",
       "    </tr>\n",
       "  </tbody>\n",
       "</table>\n",
       "</div>"
      ],
      "text/plain": [
       "       2005    2006    2007    2008    2009    2010    2011    2012    2013  \\\n",
       "794  6329.0  6231.0  6159.0  6067.0  6002.0  5928.0  5853.0  5779.0  5705.0   \n",
       "\n",
       "       2014    2015    2016    2017    2018    2019    2020  \n",
       "794  5649.0  5567.0  5512.0  5442.0  5370.0  5301.0  5240.0  "
      ]
     },
     "execution_count": 76,
     "metadata": {},
     "output_type": "execute_result"
    }
   ],
   "source": [
    "# get the 2005 to 2020 columns\n",
    "df = df.iloc[:, 4:20]\n",
    "df.head()"
   ]
  },
  {
   "cell_type": "code",
   "execution_count": 77,
   "metadata": {},
   "outputs": [
    {
     "data": {
      "text/plain": [
       "array([[6329., 6231., 6159., 6067., 6002., 5928., 5853., 5779., 5705.,\n",
       "        5649., 5567., 5512., 5442., 5370., 5301., 5240.]])"
      ]
     },
     "execution_count": 77,
     "metadata": {},
     "output_type": "execute_result"
    }
   ],
   "source": [
    "df.to_numpy()"
   ]
  },
  {
   "attachments": {},
   "cell_type": "markdown",
   "metadata": {},
   "source": [
    "### Take the columns and row data in numpy ndarray format"
   ]
  },
  {
   "cell_type": "code",
   "execution_count": 78,
   "metadata": {},
   "outputs": [],
   "source": [
    "years = df.columns.to_numpy().reshape(-1).astype(\"int\")\n",
    "population = df.to_numpy().reshape(-1)"
   ]
  },
  {
   "attachments": {},
   "cell_type": "markdown",
   "metadata": {},
   "source": [
    "### generate new data prediction years"
   ]
  },
  {
   "cell_type": "code",
   "execution_count": 80,
   "metadata": {},
   "outputs": [],
   "source": [
    "new_dates = np.arange(2021, 2046)"
   ]
  },
  {
   "attachments": {},
   "cell_type": "markdown",
   "metadata": {},
   "source": [
    "## Lineal growth method"
   ]
  },
  {
   "attachments": {},
   "cell_type": "markdown",
   "metadata": {},
   "source": [
    "Explain: \n",
    "\n",
    "Assume that population growth is going to be data by a linear rate\n",
    "![](https://ccp.ucr.ac.cr/cursos/demografia_03/Imagenes/quinta4.gif)\n",
    "\n",
    "where r is the slope\n",
    "\n",
    "$$ r = \\frac{P_{last} - P_{init}}{t_{last}-t_{init} }$$"
   ]
  },
  {
   "attachments": {},
   "cell_type": "markdown",
   "metadata": {},
   "source": [
    "#### Note that r is the growth speed factor "
   ]
  },
  {
   "cell_type": "code",
   "execution_count": 81,
   "metadata": {},
   "outputs": [
    {
     "data": {
      "text/plain": [
       "-72.6"
      ]
     },
     "execution_count": 81,
     "metadata": {},
     "output_type": "execute_result"
    }
   ],
   "source": [
    "r = (population[-1] - population[0] ) / ( years[-1] - years[0])\n",
    "r"
   ]
  },
  {
   "cell_type": "code",
   "execution_count": 115,
   "metadata": {},
   "outputs": [
    {
     "name": "stdout",
     "output_type": "stream",
     "text": [
      "[5167.4 5094.8 5022.2 4949.6 4877.  4804.4 4731.8 4659.2 4586.6 4514.\n",
      " 4441.4 4368.8 4296.2 4223.6 4151.  4078.4 4005.8 3933.2 3860.6 3788.\n",
      " 3715.4 3642.8 3570.2 3497.6 3425. ] 25\n"
     ]
    }
   ],
   "source": [
    "new__poblacion  =  population[0] + (r) * (new_dates - years[0]) \n",
    "poblacion_2045 = population[-1] + (r) * (2045 - years[-1])\n",
    "\n",
    "print(new__poblacion, new__poblacion.size)"
   ]
  },
  {
   "cell_type": "code",
   "execution_count": 114,
   "metadata": {},
   "outputs": [
    {
     "name": "stdout",
     "output_type": "stream",
     "text": [
      "[5167.4 5094.8 5022.2 4949.6 4877.  4804.4 4731.8 4659.2 4586.6 4514.\n",
      " 4441.4 4368.8 4296.2 4223.6 4151.  4078.4 4005.8 3933.2 3860.6 3788.\n",
      " 3715.4 3642.8 3570.2 3497.6 3425. ] (25,)\n",
      "[2005 2006 2007 2008 2009 2010 2011 2012 2013 2014 2015 2016 2017 2018\n",
      " 2019 2020] (16,)\n"
     ]
    }
   ],
   "source": [
    "new__poblacion = population[-0] + (r) * (new_dates - years[0]) \n",
    "print(new__poblacion, new__poblacion.shape)\n",
    "print(years, years.shape)"
   ]
  },
  {
   "attachments": {},
   "cell_type": "markdown",
   "metadata": {},
   "source": [
    "## Geometric gradient - exponencial method"
   ]
  },
  {
   "attachments": {},
   "cell_type": "markdown",
   "metadata": {},
   "source": [
    "![](https://ccp.ucr.ac.cr/cursos/demografia_03/Imagenes/quinta12.gif)"
   ]
  },
  {
   "cell_type": "code",
   "execution_count": 102,
   "metadata": {},
   "outputs": [
    {
     "data": {
      "text/plain": [
       "-0.012509151736115776"
      ]
     },
     "execution_count": 102,
     "metadata": {},
     "output_type": "execute_result"
    }
   ],
   "source": [
    "# metodo creciente geometrico\n",
    "r_creciente = pow(population[-1] / population[0], 1 / (years[-1] - years[0])) - 1\n",
    "r_creciente"
   ]
  },
  {
   "cell_type": "code",
   "execution_count": 94,
   "metadata": {},
   "outputs": [
    {
     "data": {
      "text/plain": [
       "3825.2363360253635"
      ]
     },
     "execution_count": 94,
     "metadata": {},
     "output_type": "execute_result"
    }
   ],
   "source": [
    "new__poblacion_creciente  = np.array([])\n",
    "for year in new_dates:\n",
    "    new__poblacion_creciente = np.append(new__poblacion_creciente, population[0] * pow(r_creciente + 1, (year - years[0])))\n",
    "\n",
    "new__poblacion_creciente[-1]"
   ]
  },
  {
   "cell_type": "code",
   "execution_count": 113,
   "metadata": {},
   "outputs": [
    {
     "data": {
      "image/png": "[encoded data removed]",
      "text/plain": [
       "<Figure size 640x480 with 1 Axes>"
      ]
     },
     "metadata": {},
     "output_type": "display_data"
    }
   ],
   "source": [
    "plt.plot(years, population, label=\"Población actual\")\n",
    "plt.scatter(new_dates, new__poblacion, color=\"red\", label=\"Población creciente lineal\")\n",
    "plt.scatter(new_dates, new__poblacion_creciente, color=\"green\", label=\"Población creciente geométrica\")\n",
    "plt.xlabel(\"Años\")\n",
    "plt.ylabel(\"Población\")\n",
    "plt.title(\"Población de Gramalote\")\n",
    "plt.grid(True)\n",
    "plt.legend()\n",
    "plt.show()"
   ]
  }
 ],
 "metadata": {
  "kernelspec": {
   "display_name": "DataFrameProject",
   "language": "python",
   "name": "python3"
  },
  "language_info": {
   "codemirror_mode": {
    "name": "ipython",
    "version": 3
   },
   "file_extension": ".py",
   "mimetype": "text/x-python",
   "name": "python",
   "nbconvert_exporter": "python",
   "pygments_lexer": "ipython3",
   "version": "3.10.9"
  },
  "orig_nbformat": 4,
  "vscode": {
   "interpreter": {
    "hash": "13c0d2d4e58750ecdfdcf86ac723faeb285ed369d1bf456472cb5e6634fe97e3"
   }
  }
 },
 "nbformat": 4,
 "nbformat_minor": 2
}
