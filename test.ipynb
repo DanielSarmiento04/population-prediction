{
 "cells": [
  {
   "cell_type": "code",
   "execution_count": 2,
   "metadata": {},
   "outputs": [],
   "source": [
    "import polars as pl"
   ]
  },
  {
   "cell_type": "code",
   "execution_count": 3,
   "metadata": {},
   "outputs": [],
   "source": [
    "path = \"test.csv\"\n",
    "df = pl.read_csv(path)"
   ]
  },
  {
   "cell_type": "code",
   "execution_count": 4,
   "metadata": {},
   "outputs": [
    {
     "data": {
      "text/html": [
       "<div>\n",
       "<style>\n",
       ".pl-dataframe > thead > tr > th {\n",
       "  text-align: right;\n",
       "}\n",
       "</style>\n",
       "\n",
       "<table border=\"1\" class=\"dataframe pl-dataframe\">\n",
       "<small>shape: (5, 5)</small>\n",
       "<thead>\n",
       "<tr>\n",
       "<th>\n",
       "Fecha\n",
       "</th>\n",
       "<th>\n",
       "Densidades\n",
       "</th>\n",
       "<th>\n",
       "Hombres\n",
       "</th>\n",
       "<th>\n",
       "Mujeres\n",
       "</th>\n",
       "<th>\n",
       "Población\n",
       "</th>\n",
       "</tr>\n",
       "<tr>\n",
       "<td>\n",
       "i64\n",
       "</td>\n",
       "<td>\n",
       "i64\n",
       "</td>\n",
       "<td>\n",
       "i64\n",
       "</td>\n",
       "<td>\n",
       "i64\n",
       "</td>\n",
       "<td>\n",
       "i64\n",
       "</td>\n",
       "</tr>\n",
       "</thead>\n",
       "<tbody>\n",
       "<tr>\n",
       "<td>\n",
       "2021\n",
       "</td>\n",
       "<td>\n",
       "45\n",
       "</td>\n",
       "<td>\n",
       "25171408\n",
       "</td>\n",
       "<td>\n",
       "26094433\n",
       "</td>\n",
       "<td>\n",
       "51049000\n",
       "</td>\n",
       "</tr>\n",
       "<tr>\n",
       "<td>\n",
       "2020\n",
       "</td>\n",
       "<td>\n",
       "44\n",
       "</td>\n",
       "<td>\n",
       "24984564\n",
       "</td>\n",
       "<td>\n",
       "25898320\n",
       "</td>\n",
       "<td>\n",
       "50372000\n",
       "</td>\n",
       "</tr>\n",
       "<tr>\n",
       "<td>\n",
       "2019\n",
       "</td>\n",
       "<td>\n",
       "43\n",
       "</td>\n",
       "<td>\n",
       "24713193\n",
       "</td>\n",
       "<td>\n",
       "25626250\n",
       "</td>\n",
       "<td>\n",
       "49396000\n",
       "</td>\n",
       "</tr>\n",
       "<tr>\n",
       "<td>\n",
       "2018\n",
       "</td>\n",
       "<td>\n",
       "42\n",
       "</td>\n",
       "<td>\n",
       "24370780\n",
       "</td>\n",
       "<td>\n",
       "25290276\n",
       "</td>\n",
       "<td>\n",
       "48258000\n",
       "</td>\n",
       "</tr>\n",
       "<tr>\n",
       "<td>\n",
       "2017\n",
       "</td>\n",
       "<td>\n",
       "42\n",
       "</td>\n",
       "<td>\n",
       "23990081\n",
       "</td>\n",
       "<td>\n",
       "24919763\n",
       "</td>\n",
       "<td>\n",
       "47419000\n",
       "</td>\n",
       "</tr>\n",
       "</tbody>\n",
       "</table>\n",
       "</div>"
      ],
      "text/plain": [
       "shape: (5, 5)\n",
       "┌───────┬────────────┬──────────┬──────────┬───────────┐\n",
       "│ Fecha ┆ Densidades ┆ Hombres  ┆ Mujeres  ┆ Población │\n",
       "│ ---   ┆ ---        ┆ ---      ┆ ---      ┆ ---       │\n",
       "│ i64   ┆ i64        ┆ i64      ┆ i64      ┆ i64       │\n",
       "╞═══════╪════════════╪══════════╪══════════╪═══════════╡\n",
       "│ 2021  ┆ 45         ┆ 25171408 ┆ 26094433 ┆ 51049000  │\n",
       "│ 2020  ┆ 44         ┆ 24984564 ┆ 25898320 ┆ 50372000  │\n",
       "│ 2019  ┆ 43         ┆ 24713193 ┆ 25626250 ┆ 49396000  │\n",
       "│ 2018  ┆ 42         ┆ 24370780 ┆ 25290276 ┆ 48258000  │\n",
       "│ 2017  ┆ 42         ┆ 23990081 ┆ 24919763 ┆ 47419000  │\n",
       "└───────┴────────────┴──────────┴──────────┴───────────┘"
      ]
     },
     "execution_count": 4,
     "metadata": {},
     "output_type": "execute_result"
    }
   ],
   "source": [
    "df.head()"
   ]
  },
  {
   "cell_type": "code",
   "execution_count": 6,
   "metadata": {},
   "outputs": [
    {
     "data": {
      "text/plain": [
       "(2016, 41, 23618154, 24556894, 46830000)"
      ]
     },
     "execution_count": 6,
     "metadata": {},
     "output_type": "execute_result"
    }
   ],
   "source": [
    "df.row(5)"
   ]
  },
  {
   "cell_type": "code",
   "execution_count": 1,
   "metadata": {},
   "outputs": [
    {
     "data": {
      "image/png": "[encoded data removed]",
      "text/plain": [
       "<Figure size 640x480 with 1 Axes>"
      ]
     },
     "metadata": {},
     "output_type": "display_data"
    }
   ],
   "source": [
    "import numpy as np\n",
    "import matplotlib.pyplot as plt\n",
    "from scipy.optimize import curve_fit\n",
    "\n",
    "# Datos de población histórica\n",
    "years = np.array([2005, 2010, 2015, 2020])\n",
    "population = np.array([1000, 1200, 1500, 1800])\n",
    "\n",
    "# Función logística para ajustar los datos\n",
    "def logistic_func(x, a, b, c):\n",
    "    return c / (1 + a * np.exp(-b * (x - years[0])))\n",
    "\n",
    "# Ajuste de la curva logística a los datos\n",
    "popt, pcov = curve_fit(logistic_func, years, population, bounds=([0, 0, 0], [np.inf, np.inf, np.inf]))\n",
    "\n",
    "# Predicción de la población futura\n",
    "future_years = np.array([2025, 2030, 2035, 2040])\n",
    "future_population = logistic_func(future_years, *popt)\n",
    "\n",
    "# Gráfico de los datos históricos y la predicción\n",
    "plt.plot(years, population, 'o', label='Datos históricos')\n",
    "plt.plot(future_years, future_population, '-', label='Predicción')\n",
    "plt.xlabel('Año')\n",
    "plt.ylabel('Población')\n",
    "plt.legend()\n",
    "plt.show()\n"
   ]
  }
 ],
 "metadata": {
  "kernelspec": {
   "display_name": "DataFrameProject",
   "language": "python",
   "name": "python3"
  },
  "language_info": {
   "codemirror_mode": {
    "name": "ipython",
    "version": 3
   },
   "file_extension": ".py",
   "mimetype": "text/x-python",
   "name": "python",
   "nbconvert_exporter": "python",
   "pygments_lexer": "ipython3",
   "version": "3.10.9"
  },
  "orig_nbformat": 4,
  "vscode": {
   "interpreter": {
    "hash": "13c0d2d4e58750ecdfdcf86ac723faeb285ed369d1bf456472cb5e6634fe97e3"
   }
  }
 },
 "nbformat": 4,
 "nbformat_minor": 2
}
